{
 "cells": [
  {
   "cell_type": "markdown",
   "metadata": {},
   "source": [
    "#### Write a program non-recursive and recursive program to calculate Fibonacci numbers and analyze their time and space complexity."
   ]
  },
  {
   "cell_type": "markdown",
   "metadata": {},
   "source": [
    "##### Using Recursion:"
   ]
  },
  {
   "cell_type": "code",
   "execution_count": 12,
   "metadata": {},
   "outputs": [
    {
     "name": "stdout",
     "output_type": "stream",
     "text": [
      "*** RECURSIVE APPROACH ***\n",
      "Entered Number of Terms: 8\n",
      "Fibonacci sequence:\n",
      "[0, 1, 1, 2, 3, 5, 8, 13]\n"
     ]
    }
   ],
   "source": [
    "def fibonacci(n):\n",
    "    if(n <= 1):\n",
    "        return n\n",
    "    else:\n",
    "        return(fibonacci(n-1) + fibonacci(n-2))\n",
    "n = int(input(\"Enter number of terms:\"))\n",
    "print(\"*** RECURSIVE APPROACH ***\")\n",
    "print(\"Entered Number of Terms:\",n)\n",
    "myLst = []\n",
    "print(\"Fibonacci sequence:\")\n",
    "for i in range(n):\n",
    "    myLst.append(fibonacci(i))\n",
    "\n",
    "print(myLst)"
   ]
  },
  {
   "cell_type": "markdown",
   "metadata": {},
   "source": [
    "##### Non-Recursive Method (Iterative):"
   ]
  },
  {
   "cell_type": "code",
   "execution_count": 13,
   "metadata": {},
   "outputs": [
    {
     "name": "stdout",
     "output_type": "stream",
     "text": [
      "*** ITERATIVE APPROACH ***\n",
      "Entered Number of Terms: 8\n",
      "Fibonacci sequence:\n",
      "[0, 1, 1, 2, 3, 5, 8, 13]\n"
     ]
    }
   ],
   "source": [
    "a = 0\n",
    "b = 1\n",
    "n=int(input(\"Enter the number of terms in the sequence: \"))\n",
    "print(\"*** ITERATIVE APPROACH ***\")\n",
    "print(\"Entered Number of Terms:\",n)\n",
    "myLst = []\n",
    "myLst.append(a)\n",
    "myLst.append(b)\n",
    "# print(a,b,end=\" \")\n",
    "while(n-2):\n",
    "    c=a+b\n",
    "    a,b = b,c\n",
    "    myLst.append(c)\n",
    "    # print(c,end=\" \")\n",
    "    n=n-1\n",
    "\n",
    "print(\"Fibonacci sequence:\")\n",
    "print(myLst)"
   ]
  }
 ],
 "metadata": {
  "kernelspec": {
   "display_name": "Python 3.9.6 64-bit",
   "language": "python",
   "name": "python3"
  },
  "language_info": {
   "codemirror_mode": {
    "name": "ipython",
    "version": 3
   },
   "file_extension": ".py",
   "mimetype": "text/x-python",
   "name": "python",
   "nbconvert_exporter": "python",
   "pygments_lexer": "ipython3",
   "version": "3.9.6"
  },
  "orig_nbformat": 4,
  "vscode": {
   "interpreter": {
    "hash": "9f1ed5a6caa63b933f18b2de58eb1658054e234b84bf4970be74ffb1abce9f96"
   }
  }
 },
 "nbformat": 4,
 "nbformat_minor": 2
}
