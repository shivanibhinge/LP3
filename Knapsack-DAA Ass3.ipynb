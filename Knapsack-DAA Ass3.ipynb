{
 "cells": [
  {
   "cell_type": "markdown",
   "metadata": {},
   "source": [
    "Write a program to solve a fractional Knapsack problem using a greedy method."
   ]
  },
  {
   "cell_type": "code",
   "execution_count": 18,
   "metadata": {},
   "outputs": [
    {
     "name": "stdout",
     "output_type": "stream",
     "text": [
      "60 10 6.0\n",
      "100 20 5.0\n",
      "120 30 4.0\n",
      "Knapsack Capacity: 50\n",
      "Maximum value we can obtain = 240.0\n"
     ]
    }
   ],
   "source": [
    "# Structure for an item which stores weight and\n",
    "# corresponding value of Item\n",
    "class Item:\n",
    "\tdef __init__(self, value, weight):\n",
    "\t\tself.value = value\n",
    "\t\tself.weight = weight\n",
    "\n",
    "# Main greedy function to solve problem\n",
    "def fractionalKnapsack(W, arr):\n",
    "\n",
    "\t# sorting Item on basis of ratio\n",
    "\tarr.sort(key=lambda x: (x.value/x.weight), reverse=True)\n",
    "\n",
    "\t# Uncomment to see new order of Items with their\n",
    "\t# ratio\n",
    "\tfor item in arr:\n",
    "\t\t print(item.value, item.weight, item.value/item.weight)\n",
    "\n",
    "\t# Result(value in Knapsack)\n",
    "\tfinalvalue = 0.0\n",
    "\n",
    "\t# Looping through all Items\n",
    "\tfor item in arr:\n",
    "\n",
    "\t\t# If adding Item won't overflow, add it completely\n",
    "\t\tif item.weight <= W:\n",
    "\t\t\tW -= item.weight\n",
    "\t\t\tfinalvalue += item.value\n",
    "\n",
    "\t\t# If we can't add current Item, add fractional part\n",
    "\t\t# of it\n",
    "\t\telse:\n",
    "\t\t\tfinalvalue += item.value * W / item.weight\n",
    "\t\t\tbreak\n",
    "\t# Returning final value\n",
    "\treturn finalvalue\n",
    "\n",
    "\n",
    "# Driver's Code\n",
    "if __name__ == \"__main__\":\n",
    "\t# Weight of Knapsack\n",
    "    W = 50\n",
    "    arr = [Item(60, 10), Item(100, 20), Item(120, 30)]\n",
    "\n",
    "\t# Function call\n",
    "    max_val = fractionalKnapsack(W, arr)\n",
    "    print(\"Knapsack Capacity:\", W)\n",
    "    print ('Maximum value we can obtain = {}'.format(max_val))\n"
   ]
  }
 ],
 "metadata": {
  "kernelspec": {
   "display_name": "Python 3.9.6 64-bit",
   "language": "python",
   "name": "python3"
  },
  "language_info": {
   "codemirror_mode": {
    "name": "ipython",
    "version": 3
   },
   "file_extension": ".py",
   "mimetype": "text/x-python",
   "name": "python",
   "nbconvert_exporter": "python",
   "pygments_lexer": "ipython3",
   "version": "3.9.6"
  },
  "orig_nbformat": 4,
  "vscode": {
   "interpreter": {
    "hash": "9f1ed5a6caa63b933f18b2de58eb1658054e234b84bf4970be74ffb1abce9f96"
   }
  }
 },
 "nbformat": 4,
 "nbformat_minor": 2
}
