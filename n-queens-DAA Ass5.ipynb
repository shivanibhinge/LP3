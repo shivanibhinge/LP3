{
 "cells": [
  {
   "cell_type": "markdown",
   "metadata": {},
   "source": [
    "Design n-Queens matrix having first Queen placed. Use backtracking to place remaining Queens to generate the final n-queen‘s matrix."
   ]
  },
  {
   "cell_type": "code",
   "execution_count": 1,
   "metadata": {},
   "outputs": [
    {
     "name": "stdout",
     "output_type": "stream",
     "text": [
      "Enter the number of queens\n",
      "[0, 1, 0, 0]\n",
      "[0, 0, 0, 1]\n",
      "[1, 0, 0, 0]\n",
      "[0, 0, 1, 0]\n"
     ]
    }
   ],
   "source": [
    "#Number of queens\n",
    "print (\"Enter the number of queens\")\n",
    "N = int(input())\n",
    "\n",
    "#chessboard\n",
    "#NxN matrix with all elements 0\n",
    "board = [[0]*N for _ in range(N)]\n",
    "\n",
    "def is_attack(i, j):\n",
    "    #checking if there is a queen in row or column\n",
    "    for k in range(0,N):\n",
    "        if board[i][k]==1 or board[k][j]==1:\n",
    "            return True\n",
    "    #checking diagonals\n",
    "    for k in range(0,N):\n",
    "        for l in range(0,N):\n",
    "            if (k+l==i+j) or (k-l==i-j):\n",
    "                if board[k][l]==1:\n",
    "                    return True\n",
    "    return False\n",
    "\n",
    "def N_queen(n):\n",
    "    #if n is 0, solution found\n",
    "    if n==0:\n",
    "        return True\n",
    "    for i in range(0,N):\n",
    "        for j in range(0,N):\n",
    "            '''checking if we can place a queen here or not\n",
    "            queen will not be placed if the place is being attacked\n",
    "            or already occupied'''\n",
    "            if (not(is_attack(i,j))) and (board[i][j]!=1):\n",
    "                board[i][j] = 1\n",
    "                #recursion\n",
    "                #wether we can put the next queen with this arrangment or not\n",
    "                if N_queen(n-1)==True:\n",
    "                    return True\n",
    "                board[i][j] = 0\n",
    "\n",
    "    return False\n",
    "\n",
    "N_queen(N)\n",
    "for i in board:\n",
    "    print (i)"
   ]
  }
 ],
 "metadata": {
  "kernelspec": {
   "display_name": "Python 3.9.6 64-bit",
   "language": "python",
   "name": "python3"
  },
  "language_info": {
   "codemirror_mode": {
    "name": "ipython",
    "version": 3
   },
   "file_extension": ".py",
   "mimetype": "text/x-python",
   "name": "python",
   "nbconvert_exporter": "python",
   "pygments_lexer": "ipython3",
   "version": "3.9.6"
  },
  "orig_nbformat": 4,
  "vscode": {
   "interpreter": {
    "hash": "9f1ed5a6caa63b933f18b2de58eb1658054e234b84bf4970be74ffb1abce9f96"
   }
  }
 },
 "nbformat": 4,
 "nbformat_minor": 2
}
